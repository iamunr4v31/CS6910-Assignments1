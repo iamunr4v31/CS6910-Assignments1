{
 "cells": [
  {
   "cell_type": "code",
   "execution_count": 2,
   "metadata": {},
   "outputs": [
    {
     "name": "stderr",
     "output_type": "stream",
     "text": [
      "c:\\Users\\ashwi\\miniconda3\\envs\\dl_class\\lib\\site-packages\\tqdm\\auto.py:21: TqdmWarning: IProgress not found. Please update jupyter and ipywidgets. See https://ipywidgets.readthedocs.io/en/stable/user_install.html\n",
      "  from .autonotebook import tqdm as notebook_tqdm\n"
     ]
    }
   ],
   "source": [
    "import os\n",
    "import torch\n",
    "import torch.nn as nn\n",
    "import torch.nn.functional as F\n",
    "import pytorch_lightning as pl\n",
    "\n",
    "from torchvision import transforms\n",
    "from torchvision.datasets import ImageFolder\n",
    "from torch.utils.data import DataLoader\n",
    "from torch.utils.data import random_split\n",
    "from torchmetrics import Accuracy\n",
    "\n",
    "from typing import Any, Literal\n",
    "import random"
   ]
  },
  {
   "cell_type": "code",
   "execution_count": 2,
   "metadata": {},
   "outputs": [],
   "source": [
    "path = os.path.dirname(os.path.realpath('__file__'))\n",
    "train_path = os.path.join(path, 'inaturalist_12K/train/')\n",
    "test_path = os.path.join(path, 'inaturalist_12K/val/')"
   ]
  },
  {
   "cell_type": "code",
   "execution_count": 3,
   "metadata": {},
   "outputs": [],
   "source": [
    "transform = transforms.Compose([\n",
    "    transforms.Resize((224, 224)),\n",
    "    transforms.ToTensor(),\n",
    "    transforms.Normalize(mean=[0, 0, 0], std=[1, 1, 1]),\n",
    "])\n",
    "dataset = ImageFolder(train_path, transform=transform)\n",
    "\n",
    "train_size = int(0.7 * len(dataset))\n",
    "val_size = (len(dataset) - train_size) * 2 // 3\n",
    "tu_size = len(dataset) - train_size - val_size\n",
    "train_dataset, val_dataset, tune_dataset = random_split(dataset, [train_size, val_size, tu_size])\n",
    "\n",
    "test_dataset = ImageFolder(test_path, transform=transform)\n"
   ]
  },
  {
   "cell_type": "code",
   "execution_count": 4,
   "metadata": {},
   "outputs": [
    {
     "data": {
      "text/plain": [
       "(6999, 2000, 2000, 1000)"
      ]
     },
     "execution_count": 4,
     "metadata": {},
     "output_type": "execute_result"
    }
   ],
   "source": [
    "len(train_dataset), len(val_dataset), len(test_dataset), len(tune_dataset)"
   ]
  },
  {
   "cell_type": "code",
   "execution_count": 5,
   "metadata": {},
   "outputs": [
    {
     "name": "stdout",
     "output_type": "stream",
     "text": [
      "torch.Size([32, 3, 224, 224]) torch.Size([32])\n"
     ]
    }
   ],
   "source": [
    "dl = DataLoader(train_dataset, batch_size=32, shuffle=True)\n",
    "for x, y in dl:\n",
    "    print(x.shape, y.shape)\n",
    "    break"
   ]
  },
  {
   "cell_type": "code",
   "execution_count": 11,
   "metadata": {},
   "outputs": [],
   "source": [
    "class ConvolutionBlock(pl.LightningModule):\n",
    "    def __init__(\n",
    "            self, in_channels: int, out_channels: int, kernel_size: int,\n",
    "            stride: int, padding: int, batch_norm: bool=True,\n",
    "            activation: Literal['relu', 'gelu', 'silu', 'mish']=\"relu\"\n",
    "            ):\n",
    "        super(ConvolutionBlock, self).__init__()\n",
    "        self.conv = nn.Conv2d(in_channels, out_channels, kernel_size, stride, padding)\n",
    "        if batch_norm:\n",
    "            self.bn = nn.BatchNorm2d(out_channels)\n",
    "        match activation:\n",
    "            case \"relu\":\n",
    "                self.activation = nn.ReLU()\n",
    "            case \"gelu\":\n",
    "                self.activation = nn.GELU()\n",
    "            case \"silu\":\n",
    "                self.activation = nn.SiLU()\n",
    "            case \"mish\":\n",
    "                self.activation = nn.Mish()\n",
    "            case _:\n",
    "                self.activation = nn.ReLU()\n",
    "        self.maxpool = nn.MaxPool2d(2, 2)\n",
    "        \n",
    "    def forward(self, x):\n",
    "        x = self.conv(x)\n",
    "        if self.bn:          \n",
    "            x = self.bn(x)\n",
    "        x = self.activation(x)\n",
    "        x = self.maxpool(x)  \n",
    "        return x\n",
    "    \n",
    "class CNNBase(pl.LightningModule):\n",
    "    def __init__(\n",
    "            self, in_channels: int, out_channels: int,\n",
    "            kernel_size: int, stride: int, padding: int,\n",
    "            batch_norm: bool=True, activation: Literal['relu', 'gelu', 'silu', 'mish']=\"relu\",\n",
    "            kernel_strategy: Literal['same', 'double', 'half'] = 'same'\n",
    "            ):\n",
    "        super(CNNBase, self).__init__()\n",
    "        if kernel_strategy == 'same':\n",
    "            coeff = 1\n",
    "        elif kernel_strategy == 'double':\n",
    "            coeff = 2\n",
    "        elif kernel_strategy == 'half':\n",
    "            coeff = 0.5\n",
    "        for i in range(1, 6):\n",
    "            setattr(self, f\"conv{i}\", ConvolutionBlock(in_channels, out_channels, kernel_size, stride, padding, batch_norm, activation))\n",
    "            in_channels = out_channels\n",
    "            out_channels *= coeff\n",
    "    \n",
    "    def forward(self, x):\n",
    "        x = self.conv1(x)\n",
    "        x = self.conv2(x)\n",
    "        x = self.conv3(x)\n",
    "        x = self.conv4(x)\n",
    "        x = self.conv5(x)\n",
    "        return x\n",
    "\n",
    "class ClassifierHead(pl.LightningModule):\n",
    "    def __init__(self, num_classes: int, in_size: int, hidden_size: int, dropout: float=0.0, activation: Literal['relu', 'gelu', 'silu', 'mish']='relu') -> None:\n",
    "        super(ClassifierHead, self).__init__()\n",
    "        self.fc1 = nn.Linear(in_size, hidden_size)\n",
    "        self.fc2 = nn.Linear(hidden_size, num_classes)\n",
    "        self.dropout = nn.Dropout(dropout)\n",
    "        match activation:\n",
    "            case \"relu\":\n",
    "                self.activation = nn.ReLU()\n",
    "            case \"gelu\":\n",
    "                self.activation = nn.GELU()\n",
    "            case \"silu\":\n",
    "                self.activation = nn.SiLU()\n",
    "            case \"mish\":\n",
    "                self.activation = nn.Mish()\n",
    "            case _:\n",
    "                self.activation = nn.ReLU()\n",
    "        self.o_activation = nn.Softmax(dim=1)\n",
    "\n",
    "    def forward(self, x):\n",
    "        x = x.view(x.size(0), -1)\n",
    "        x = self.activation(self.dropout(self.fc1(x)))\n",
    "        x = self.o_activation(self.fc2(x))\n",
    "        return x\n",
    "    \n"
   ]
  },
  {
   "cell_type": "code",
   "execution_count": 12,
   "metadata": {},
   "outputs": [],
   "source": [
    "class NeuralNetwork(pl.LightningModule):\n",
    "    def __init__(\n",
    "            self, in_channels: int, out_channels: int,  # Convolutional Layers\n",
    "            kernel_size: int, stride: int, padding: int,\n",
    "            batch_norm: bool=True, activation: Literal['relu', 'gelu', 'silu', 'mish']=\"relu\",\n",
    "            kernel_strategy: Literal['same', 'double', 'half'] = 'same',\n",
    "            dropout: float=0.0, num_classes: int=10, hidden_size: int=64   # Fully-Connected Layers\n",
    "            ) -> None:\n",
    "        super().__init__()\n",
    "        self.save_hyperparameters()\n",
    "        self.cnn = CNNBase(in_channels, out_channels, kernel_size, stride, padding, batch_norm, activation, kernel_strategy)\n",
    "        in_size = self.get_in_size()\n",
    "        self.classifier = ClassifierHead(num_classes, in_size, hidden_size, dropout, activation)\n",
    "        self.accuracy = Accuracy(task='multiclass', num_classes=num_classes)\n",
    "    \n",
    "    def get_in_size(self):\n",
    "        x = torch.randn(1, 3, 224, 224)\n",
    "        x = self.cnn(x)\n",
    "        return x.numel()\n",
    "    \n",
    "    def forward(self, x):\n",
    "        x = self.cnn(x)\n",
    "        x = self.classifier(x)\n",
    "        return x\n",
    "\n",
    "    def training_step(self, batch, batch_idx) -> Any:\n",
    "        x, y = batch\n",
    "        y_hat = self(x)\n",
    "        loss = F.cross_entropy(y_hat, y)\n",
    "        acc = self.accuracy(y_hat, y)\n",
    "        self.log('train_loss', loss, on_epoch=True, prog_bar=True, logger=True)\n",
    "        self.log('train_acc', acc, on_epoch=True, prog_bar=True, logger=True)\n",
    "        return loss\n",
    "    \n",
    "    def validation_step(self, batch, batch_idx) -> Any:\n",
    "        x, y = batch\n",
    "        y_hat = self(x)\n",
    "        loss = F.cross_entropy(y_hat, y)\n",
    "        acc = self.accuracy(y_hat, y)\n",
    "        self.log('val_loss', loss, on_epoch=True, prog_bar=True, logger=True)\n",
    "        self.log('val_acc', acc, on_epoch=True, prog_bar=True, logger=True)\n",
    "        return loss\n",
    "    \n",
    "    def configure_optimizers(self) -> None:\n",
    "        return torch.optim.Adam(self.parameters(), lr=1e-3)\n",
    "    \n",
    "    def train_dataloader(self) -> DataLoader:\n",
    "        return DataLoader(train_dataset, batch_size=32, shuffle=True, num_workers=4)\n",
    "    \n",
    "    def test_dataloader(self) -> DataLoader:\n",
    "        return DataLoader(test_dataset, batch_size=32, shuffle=False, num_workers=4)\n",
    "    \n",
    "    def val_dataloader(self) -> DataLoader:\n",
    "        return DataLoader(val_dataset, batch_size=32, shuffle=False, num_workers=4)"
   ]
  },
  {
   "cell_type": "code",
   "execution_count": 13,
   "metadata": {},
   "outputs": [
    {
     "name": "stderr",
     "output_type": "stream",
     "text": [
      "c:\\Users\\ashwi\\miniconda3\\envs\\dl_class\\lib\\site-packages\\pytorch_lightning\\loggers\\wandb.py:395: UserWarning: There is a wandb run already in progress and newly created instances of `WandbLogger` will reuse this run. If this is not desired, call `wandb.finish()` before instantiating `WandbLogger`.\n",
      "  rank_zero_warn(\n",
      "GPU available: True (cuda), used: True\n",
      "TPU available: False, using: 0 TPU cores\n",
      "IPU available: False, using: 0 IPUs\n",
      "HPU available: False, using: 0 HPUs\n"
     ]
    }
   ],
   "source": [
    "model = NeuralNetwork(3, 32, 3, 1, 1, batch_norm=True, activation='gelu', kernel_strategy='double', dropout=0.0, num_classes=10, hidden_size=64)\n",
    "logger = pl.loggers.WandbLogger(project='iNaturalist', name='cnn-test')\n",
    "callbacks = [pl.callbacks.ModelCheckpoint(monitor='val_acc', mode='max', save_top_k=1, save_last=True)]\n",
    "trainer = pl.Trainer(max_epochs=10, logger=logger, callbacks=callbacks)\n",
    "# trainer = pl.Trainer(max_epochs=10, fast_dev_run=True)"
   ]
  },
  {
   "cell_type": "code",
   "execution_count": 14,
   "metadata": {},
   "outputs": [
    {
     "name": "stderr",
     "output_type": "stream",
     "text": [
      "c:\\Users\\ashwi\\miniconda3\\envs\\dl_class\\lib\\site-packages\\pytorch_lightning\\callbacks\\model_checkpoint.py:612: UserWarning: Checkpoint directory .\\iNaturalist\\syqldwoj\\checkpoints exists and is not empty.\n",
      "  rank_zero_warn(f\"Checkpoint directory {dirpath} exists and is not empty.\")\n",
      "LOCAL_RANK: 0 - CUDA_VISIBLE_DEVICES: [0]\n",
      "\n",
      "  | Name       | Type               | Params\n",
      "--------------------------------------------------\n",
      "0 | cnn        | CNNBase            | 1.6 M \n",
      "1 | classifier | ClassifierHead     | 1.6 M \n",
      "2 | accuracy   | MulticlassAccuracy | 0     \n",
      "--------------------------------------------------\n",
      "3.2 M     Trainable params\n",
      "0         Non-trainable params\n",
      "3.2 M     Total params\n",
      "12.708    Total estimated model params size (MB)\n"
     ]
    },
    {
     "name": "stdout",
     "output_type": "stream",
     "text": [
      "                                                                           \r"
     ]
    }
   ],
   "source": [
    "trainer.fit(model)"
   ]
  }
 ],
 "metadata": {
  "kernelspec": {
   "display_name": "dl_class",
   "language": "python",
   "name": "python3"
  },
  "language_info": {
   "codemirror_mode": {
    "name": "ipython",
    "version": 3
   },
   "file_extension": ".py",
   "mimetype": "text/x-python",
   "name": "python",
   "nbconvert_exporter": "python",
   "pygments_lexer": "ipython3",
   "version": "3.10.9"
  },
  "orig_nbformat": 4,
  "vscode": {
   "interpreter": {
    "hash": "ebf2a3bacc3ce7beb8d8fb11b6ad33ab3ec68bc06abec3dda6ef36650034ef52"
   }
  }
 },
 "nbformat": 4,
 "nbformat_minor": 2
}
